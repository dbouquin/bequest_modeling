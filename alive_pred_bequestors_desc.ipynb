{
 "cells": [
  {
   "cell_type": "code",
   "execution_count": 40,
   "metadata": {},
   "outputs": [],
   "source": [
    "import pandas as pd"
   ]
  },
  {
   "cell_type": "code",
   "execution_count": 41,
   "metadata": {},
   "outputs": [],
   "source": [
    "alive_pred_bequestors = pd.read_csv('alive_pred_bequestors_07012024.csv')"
   ]
  },
  {
   "cell_type": "code",
   "execution_count": 42,
   "metadata": {},
   "outputs": [],
   "source": [
    "bequests_cleaned = pd.read_csv('bequests_cleaned.csv')"
   ]
  },
  {
   "cell_type": "code",
   "execution_count": 56,
   "metadata": {},
   "outputs": [
    {
     "data": {
      "text/plain": [
       "34"
      ]
     },
     "execution_count": 56,
     "metadata": {},
     "output_type": "execute_result"
    }
   ],
   "source": [
    "# show number of \"alive\" bequestors in the database\n",
    "# these are people who have given bequests but were mistakenly not marked as deceased\n",
    "bequests_cleaned[bequests_cleaned['DEATH_FLAG'] == 0]['BEQUEST_RECEIVED'].sum()"
   ]
  },
  {
   "cell_type": "code",
   "execution_count": 44,
   "metadata": {},
   "outputs": [],
   "source": [
    "# Drop LE column from bequests_cleaned\n",
    "bequests_cleaned = bequests_cleaned.drop(columns=['LE'])"
   ]
  },
  {
   "cell_type": "code",
   "execution_count": 45,
   "metadata": {},
   "outputs": [],
   "source": [
    "all_bequestors = pd.read_csv('combined_bequest_20240610.csv', low_memory=False)"
   ]
  },
  {
   "cell_type": "code",
   "execution_count": 46,
   "metadata": {},
   "outputs": [
    {
     "data": {
      "text/plain": [
       "Index(['ROI_ID', 'ROI_FAMILY_ID', 'QUARTILE', 'HOH_BIRTH_DATE', 'STREET',\n",
       "       'CITY', 'STATE', 'ZIPCODE', 'ADDRESS_TYPE', 'PRIMARY_ADDRESS',\n",
       "       'ADDRESS_CONTACT_STATUS', 'REGION_CODE', 'TOTAL_TRANSACTIONS',\n",
       "       'TOTAL_AMOUNT', 'FIRST_GIFT_AMOUNT', 'FIRST_GIFT_DATE', 'MRC_DATE',\n",
       "       'MRC_AMOUNT', 'HPC_DATE', 'HPC_AMOUNT',\n",
       "       'IWAVE_EXTERNAL_GIVING_VELOCITY', 'IWAVE_GIVING_CAPACITY_5YR',\n",
       "       'IWAVE_GIVING_CAPACITY_SOURCE', 'IWAVE_PLANNED_GIVING',\n",
       "       'IWAVE_PROSPECT_CLASSIFICATION', 'IWAVE_SUGGESTED_CULTIVATION',\n",
       "       'IWAVE_SUGGESTED_ENGAGEMENT_LEAD', 'FIRST_BEQUEST_DATE',\n",
       "       'LAST_BEQUEST_DATE', 'FIRST_BEQUEST_FISCAL_YEAR',\n",
       "       'LAST_BEQUEST_FISCAL_YEAR', 'FIRST_BEQUEST_NET_AMOUNT',\n",
       "       'LAST_BEQUEST_NET_AMOUNT'],\n",
       "      dtype='object')"
      ]
     },
     "execution_count": 46,
     "metadata": {},
     "output_type": "execute_result"
    }
   ],
   "source": [
    "all_bequestors.columns"
   ]
  },
  {
   "cell_type": "code",
   "execution_count": 47,
   "metadata": {},
   "outputs": [],
   "source": [
    "# Filter bequests_cleaned to only include the predicted living bequestors\n",
    "alive_pred_bequestors_desc = bequests_cleaned[bequests_cleaned['ROI_ID'].isin(alive_pred_bequestors['ROI_ID'])]"
   ]
  },
  {
   "cell_type": "code",
   "execution_count": 48,
   "metadata": {},
   "outputs": [
    {
     "data": {
      "text/plain": [
       "ROI_ID                    0.000000\n",
       "ROI_FAMILY_ID             0.000000\n",
       "STATE                     0.000000\n",
       "REGION_CODE               0.000000\n",
       "TOTAL_TRANSACTIONS        0.000000\n",
       "TOTAL_AMOUNT              0.000000\n",
       "FIRST_GIFT_AMOUNT         0.000000\n",
       "MRC_AMOUNT                0.000000\n",
       "HPC_AMOUNT                0.000000\n",
       "DEATH_FLAG                0.000000\n",
       "YEARS_SINCE_FIRST_GIFT    0.000000\n",
       "YEARS_SINCE_MRC_GIFT      0.000000\n",
       "YEARS_SINCE_HPC_GIFT      0.000000\n",
       "BEQUEST_RECEIVED          0.000000\n",
       "BIRTH_YEAR                0.132364\n",
       "dtype: float64"
      ]
     },
     "execution_count": 48,
     "metadata": {},
     "output_type": "execute_result"
    }
   ],
   "source": [
    "# Find proportion of missing values in each column\n",
    "missing_prop = alive_pred_bequestors_desc.isnull().mean()\n",
    "missing_prop"
   ]
  },
  {
   "cell_type": "code",
   "execution_count": null,
   "metadata": {},
   "outputs": [],
   "source": [
    "alive_pred_bequestors_desc.loc[:, 'BIRTH_YEAR'] = pd.to_numeric(alive_pred_bequestors_desc['BIRTH_YEAR'], errors='coerce')\n",
    "alive_pred_bequestors_desc.loc[:, 'APPROX_AGE'] = 2024 - alive_pred_bequestors_desc['BIRTH_YEAR']"
   ]
  },
  {
   "cell_type": "code",
   "execution_count": 50,
   "metadata": {},
   "outputs": [
    {
     "data": {
      "text/html": [
       "<div>\n",
       "<style scoped>\n",
       "    .dataframe tbody tr th:only-of-type {\n",
       "        vertical-align: middle;\n",
       "    }\n",
       "\n",
       "    .dataframe tbody tr th {\n",
       "        vertical-align: top;\n",
       "    }\n",
       "\n",
       "    .dataframe thead th {\n",
       "        text-align: right;\n",
       "    }\n",
       "</style>\n",
       "<table border=\"1\" class=\"dataframe\">\n",
       "  <thead>\n",
       "    <tr style=\"text-align: right;\">\n",
       "      <th></th>\n",
       "      <th>ROI_ID</th>\n",
       "      <th>ROI_FAMILY_ID</th>\n",
       "      <th>STATE</th>\n",
       "      <th>REGION_CODE</th>\n",
       "      <th>TOTAL_TRANSACTIONS</th>\n",
       "      <th>TOTAL_AMOUNT</th>\n",
       "      <th>FIRST_GIFT_AMOUNT</th>\n",
       "      <th>MRC_AMOUNT</th>\n",
       "      <th>HPC_AMOUNT</th>\n",
       "      <th>DEATH_FLAG</th>\n",
       "      <th>YEARS_SINCE_FIRST_GIFT</th>\n",
       "      <th>YEARS_SINCE_MRC_GIFT</th>\n",
       "      <th>YEARS_SINCE_HPC_GIFT</th>\n",
       "      <th>BEQUEST_RECEIVED</th>\n",
       "      <th>BIRTH_YEAR</th>\n",
       "      <th>APPROX_AGE</th>\n",
       "    </tr>\n",
       "  </thead>\n",
       "  <tbody>\n",
       "    <tr>\n",
       "      <th>809</th>\n",
       "      <td>33940453</td>\n",
       "      <td>33940453</td>\n",
       "      <td>NY</td>\n",
       "      <td>NERO</td>\n",
       "      <td>9.0</td>\n",
       "      <td>40025.0</td>\n",
       "      <td>25.0</td>\n",
       "      <td>5000.0</td>\n",
       "      <td>5000.0</td>\n",
       "      <td>0</td>\n",
       "      <td>22</td>\n",
       "      <td>0</td>\n",
       "      <td>0</td>\n",
       "      <td>0</td>\n",
       "      <td>1973.0</td>\n",
       "      <td>51.0</td>\n",
       "    </tr>\n",
       "    <tr>\n",
       "      <th>10202</th>\n",
       "      <td>35007139</td>\n",
       "      <td>35007139</td>\n",
       "      <td>CA</td>\n",
       "      <td>PARO</td>\n",
       "      <td>21.0</td>\n",
       "      <td>10450.0</td>\n",
       "      <td>50.0</td>\n",
       "      <td>5000.0</td>\n",
       "      <td>5000.0</td>\n",
       "      <td>0</td>\n",
       "      <td>22</td>\n",
       "      <td>6</td>\n",
       "      <td>6</td>\n",
       "      <td>0</td>\n",
       "      <td>1938.0</td>\n",
       "      <td>86.0</td>\n",
       "    </tr>\n",
       "    <tr>\n",
       "      <th>16530</th>\n",
       "      <td>35016646</td>\n",
       "      <td>35016646</td>\n",
       "      <td>GA</td>\n",
       "      <td>SERO</td>\n",
       "      <td>19.0</td>\n",
       "      <td>77600.0</td>\n",
       "      <td>50.0</td>\n",
       "      <td>10000.0</td>\n",
       "      <td>10000.0</td>\n",
       "      <td>0</td>\n",
       "      <td>22</td>\n",
       "      <td>0</td>\n",
       "      <td>0</td>\n",
       "      <td>0</td>\n",
       "      <td>1930.0</td>\n",
       "      <td>94.0</td>\n",
       "    </tr>\n",
       "    <tr>\n",
       "      <th>17357</th>\n",
       "      <td>35018073</td>\n",
       "      <td>35018073</td>\n",
       "      <td>NM</td>\n",
       "      <td>SWRO</td>\n",
       "      <td>10.0</td>\n",
       "      <td>4060.0</td>\n",
       "      <td>25.0</td>\n",
       "      <td>2000.0</td>\n",
       "      <td>2000.0</td>\n",
       "      <td>0</td>\n",
       "      <td>22</td>\n",
       "      <td>7</td>\n",
       "      <td>7</td>\n",
       "      <td>0</td>\n",
       "      <td>1963.0</td>\n",
       "      <td>61.0</td>\n",
       "    </tr>\n",
       "    <tr>\n",
       "      <th>18867</th>\n",
       "      <td>35020427</td>\n",
       "      <td>35020427</td>\n",
       "      <td>CO</td>\n",
       "      <td>SWRO</td>\n",
       "      <td>24.0</td>\n",
       "      <td>219650.0</td>\n",
       "      <td>10000.0</td>\n",
       "      <td>100.0</td>\n",
       "      <td>50000.0</td>\n",
       "      <td>0</td>\n",
       "      <td>19</td>\n",
       "      <td>0</td>\n",
       "      <td>11</td>\n",
       "      <td>0</td>\n",
       "      <td>1952.0</td>\n",
       "      <td>72.0</td>\n",
       "    </tr>\n",
       "  </tbody>\n",
       "</table>\n",
       "</div>"
      ],
      "text/plain": [
       "         ROI_ID  ROI_FAMILY_ID STATE REGION_CODE  TOTAL_TRANSACTIONS  \\\n",
       "809    33940453       33940453    NY        NERO                 9.0   \n",
       "10202  35007139       35007139    CA        PARO                21.0   \n",
       "16530  35016646       35016646    GA        SERO                19.0   \n",
       "17357  35018073       35018073    NM        SWRO                10.0   \n",
       "18867  35020427       35020427    CO        SWRO                24.0   \n",
       "\n",
       "       TOTAL_AMOUNT  FIRST_GIFT_AMOUNT  MRC_AMOUNT  HPC_AMOUNT  DEATH_FLAG  \\\n",
       "809         40025.0               25.0      5000.0      5000.0           0   \n",
       "10202       10450.0               50.0      5000.0      5000.0           0   \n",
       "16530       77600.0               50.0     10000.0     10000.0           0   \n",
       "17357        4060.0               25.0      2000.0      2000.0           0   \n",
       "18867      219650.0            10000.0       100.0     50000.0           0   \n",
       "\n",
       "       YEARS_SINCE_FIRST_GIFT  YEARS_SINCE_MRC_GIFT  YEARS_SINCE_HPC_GIFT  \\\n",
       "809                        22                     0                     0   \n",
       "10202                      22                     6                     6   \n",
       "16530                      22                     0                     0   \n",
       "17357                      22                     7                     7   \n",
       "18867                      19                     0                    11   \n",
       "\n",
       "       BEQUEST_RECEIVED  BIRTH_YEAR  APPROX_AGE  \n",
       "809                   0      1973.0        51.0  \n",
       "10202                 0      1938.0        86.0  \n",
       "16530                 0      1930.0        94.0  \n",
       "17357                 0      1963.0        61.0  \n",
       "18867                 0      1952.0        72.0  "
      ]
     },
     "execution_count": 50,
     "metadata": {},
     "output_type": "execute_result"
    }
   ],
   "source": [
    "alive_pred_bequestors_desc.head()"
   ]
  },
  {
   "cell_type": "code",
   "execution_count": 51,
   "metadata": {},
   "outputs": [
    {
     "data": {
      "text/plain": [
       "(31, 16)"
      ]
     },
     "execution_count": 51,
     "metadata": {},
     "output_type": "execute_result"
    }
   ],
   "source": [
    "# Count number of alive_pred_bequestors_desc have BEQUEST_RECEIVED = 1\n",
    "alive_pred_bequestors_desc[alive_pred_bequestors_desc['BEQUEST_RECEIVED'] == 1].shape"
   ]
  },
  {
   "cell_type": "code",
   "execution_count": null,
   "metadata": {},
   "outputs": [],
   "source": [
    "# list ROI_IDs of alive_pred_bequestors_desc who have BEQUEST_RECEIVED = 1\n",
    "living_dead = alive_pred_bequestors_desc[alive_pred_bequestors_desc['BEQUEST_RECEIVED'] == 1]['ROI_ID']\n",
    "#living_dead"
   ]
  },
  {
   "cell_type": "markdown",
   "metadata": {},
   "source": [
    "In the full dataset there were only 34 records where the person is alive and BEQUEST_DATE is not null    \n",
    "(i.e. they have given a bequest but they're not marked as dead).    \n",
    "This means that the model only missed 3 people (recall = .91176471)"
   ]
  },
  {
   "cell_type": "code",
   "execution_count": 53,
   "metadata": {},
   "outputs": [
    {
     "data": {
      "image/png": "[encoded data removed]",
      "text/plain": [
       "<Figure size 640x480 with 1 Axes>"
      ]
     },
     "metadata": {},
     "output_type": "display_data"
    }
   ],
   "source": [
    "# plot age distribution of alive_pred_bequestors_desc\n",
    "import matplotlib.pyplot as plt\n",
    "import seaborn as sns\n",
    "\n",
    "sns.histplot(alive_pred_bequestors_desc['APPROX_AGE'], bins=20)\n",
    "plt.title('Age distribution of predicted living bequestors')\n",
    "plt.show()"
   ]
  },
  {
   "cell_type": "code",
   "execution_count": 54,
   "metadata": {},
   "outputs": [
    {
     "data": {
      "text/plain": [
       "(985, 16)"
      ]
     },
     "execution_count": 54,
     "metadata": {},
     "output_type": "execute_result"
    }
   ],
   "source": [
    "# Filter alive_pred_bequestors_desc to only include people with approx age < 85\n",
    "alive_pred_bequestors_desc = alive_pred_bequestors_desc[alive_pred_bequestors_desc['APPROX_AGE'] < 85]\n",
    "alive_pred_bequestors_desc.shape"
   ]
  },
  {
   "cell_type": "code",
   "execution_count": 55,
   "metadata": {},
   "outputs": [],
   "source": [
    "# Write alive_pred_bequestors_desc to csv\n",
    "alive_pred_bequestors_desc.to_csv('alive_pred_bequestors_desc_07012024.csv', index=False)"
   ]
  },
  {
   "cell_type": "code",
   "execution_count": null,
   "metadata": {},
   "outputs": [],
   "source": []
  }
 ],
 "metadata": {
  "kernelspec": {
   "display_name": "pysnowpark",
   "language": "python",
   "name": "python3"
  },
  "language_info": {
   "codemirror_mode": {
    "name": "ipython",
    "version": 3
   },
   "file_extension": ".py",
   "mimetype": "text/x-python",
   "name": "python",
   "nbconvert_exporter": "python",
   "pygments_lexer": "ipython3",
   "version": "3.8.16"
  }
 },
 "nbformat": 4,
 "nbformat_minor": 2
}
