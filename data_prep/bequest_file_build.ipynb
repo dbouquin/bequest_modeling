{
 "cells": [
  {
   "cell_type": "code",
   "execution_count": 1,
   "metadata": {},
   "outputs": [],
   "source": [
    "import os\n",
    "import zipfile\n",
    "import pandas as pd"
   ]
  },
  {
   "cell_type": "code",
   "execution_count": 2,
   "metadata": {},
   "outputs": [],
   "source": [
    "# Define the directory containing the zip files\n",
    "zip_dir = '/Users/dbouquin/Library/CloudStorage/OneDrive-NationalParksConservationAssociation/Help Desk/HelpDesk_GitLand/HD974 - West Death Rates/bequest_zips'\n",
    "output_csv = 'combined_bequest_20240610.csv'"
   ]
  },
  {
   "cell_type": "code",
   "execution_count": 3,
   "metadata": {},
   "outputs": [
    {
     "name": "stdout",
     "output_type": "stream",
     "text": [
      "Combined CSV saved as combined_bequest_20240610.csv\n"
     ]
    }
   ],
   "source": [
    "\n",
    "# Create a list to hold all the individual DataFrames\n",
    "dfs = []\n",
    "\n",
    "# Loop through all files in the directory\n",
    "for filename in os.listdir(zip_dir):\n",
    "    if filename.endswith('.zip'):\n",
    "        zip_path = os.path.join(zip_dir, filename)\n",
    "        \n",
    "        # Extract the zip file\n",
    "        with zipfile.ZipFile(zip_path, 'r') as zip_ref:\n",
    "            zip_ref.extractall(zip_dir)\n",
    "        \n",
    "        # Loop through the extracted files\n",
    "        for extracted_file in zip_ref.namelist():\n",
    "            if extracted_file.endswith('.csv'):\n",
    "                csv_path = os.path.join(zip_dir, extracted_file)\n",
    "                \n",
    "                # Read the CSV file into a DataFrame\n",
    "                df = pd.read_csv(csv_path, encoding='ISO-8859-1', low_memory=False)\n",
    "                \n",
    "                # Append the DataFrame to the list\n",
    "                dfs.append(df)\n",
    "                \n",
    "                # Delete the extracted CSV file\n",
    "                os.remove(csv_path)\n",
    "\n",
    "# Combine all DataFrames into one\n",
    "combined_df = pd.concat(dfs, ignore_index=True)\n",
    "\n",
    "# Save the combined DataFrame to a CSV file\n",
    "combined_df.to_csv(output_csv, index=False)\n",
    "\n",
    "print(f\"Combined CSV saved as {output_csv}\")"
   ]
  },
  {
   "cell_type": "code",
   "execution_count": null,
   "metadata": {},
   "outputs": [],
   "source": []
  }
 ],
 "metadata": {
  "kernelspec": {
   "display_name": "deathrates",
   "language": "python",
   "name": "python3"
  },
  "language_info": {
   "codemirror_mode": {
    "name": "ipython",
    "version": 3
   },
   "file_extension": ".py",
   "mimetype": "text/x-python",
   "name": "python",
   "nbconvert_exporter": "python",
   "pygments_lexer": "ipython3",
   "version": "3.12.3"
  }
 },
 "nbformat": 4,
 "nbformat_minor": 2
}
