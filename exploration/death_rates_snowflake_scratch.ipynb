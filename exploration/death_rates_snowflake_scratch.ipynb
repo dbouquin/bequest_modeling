{
 "cells": [
  {
   "cell_type": "code",
   "execution_count": 2,
   "metadata": {},
   "outputs": [],
   "source": [
    "from snowflake.snowpark.session import Session\n",
    "from sklearn.experimental import enable_iterative_imputer\n",
    "from datetime import datetime\n",
    "from sklearn.model_selection import KFold\n",
    "from sklearn.metrics import mean_absolute_error\n",
    "from sklearn.impute import SimpleImputer, KNNImputer\n",
    "from sklearn.model_selection import train_test_split\n",
    "from sklearn.metrics import mean_squared_error\n",
    "import pandas as pd\n",
    "import numpy as np\n",
    "from sklearn.impute import SimpleImputer, IterativeImputer\n",
    "from sklearn.model_selection import train_test_split\n",
    "from sklearn.ensemble import RandomForestClassifier\n",
    "from sklearn.metrics import classification_report, accuracy_score\n",
    "import matplotlib.pyplot as plt\n",
    "from imblearn.over_sampling import SMOTE"
   ]
  },
  {
   "cell_type": "code",
   "execution_count": 2,
   "metadata": {},
   "outputs": [],
   "source": [
    "# snowpark session\n",
    "account = 'yzb80796.us-east-1'\n",
    "user = 'DBOUQUIN@NPCA.ORG'\n",
    "role = 'ACCOUNTADMIN'\n",
    "database = 'DEATH_DB'\n",
    "schema = 'PUBLIC'\n",
    "warehouse = 'DATASCIENCE_WH'"
   ]
  },
  {
   "cell_type": "code",
   "execution_count": 3,
   "metadata": {},
   "outputs": [
    {
     "name": "stdout",
     "output_type": "stream",
     "text": [
      "Initiating login request with your identity provider. A browser window should have opened for you to complete the login. If you can't see it, check existing browser windows, or your OS settings. Press CTRL+C to abort and try again...\n",
      "Going to open: https://login.microsoftonline.com/79b6ced6-848a-442a-bbf4-34232dae8bbe/saml2?SAMLRequest=lZJdb9owFIb%2FSuRdJ3FCFsACKgpDY%2F2A8VFVvXOSE7Dq2MzHaUp%2F%2FUwoUnfRSruLnOe1H%2Fs9g6vXSnovYFBoNSRRQIkHKteFULsh2W5mfo94aLkquNQKhuQISK5GA%2BSVPLBxbfdqBX9qQOu5jRSy9seQ1EYxzVEgU7wCZDZn6%2FHdLYsDyg5GW51rST5Evk5wRDDWGV4iBQqnt7f2wMKwaZqg6QTa7MKYUhrSfuioE%2FLtwr%2B6O33CRyFNTrwjHL58d7sW6vwEX2llZwjZz81m6S8X6w3xxhfViVZYV2DWYF5EDtvV7VkAncHxLevRbj8NavSBo%2FWjAJVuSsmfIdfVobZu28B9hSUUodQ74W4%2Bnw7J4VkUi8e8W%2FKnrYzzx7cxNd1f89XqOLmf7bKHesH313fxze9ldVMff%2BTEe7hUG5%2BqnSPWMFenQq1bonHi09SPOhsasU7KvneDNE6eiDd1hQrFbZu8WLceQSVyo1GXVispFLSW3X6W5lCkfi%2FpcT9JYu5nWZn4nSTuxAWHXpZBeKo5JufRYa2IGf33gwzCj%2FH3Mbx3zcynSy1FfvRm2lTcfl5cFETtiij8skUZVFzIcVEYQHQFSqmbiQFu3bRbUwMJR%2BdT%2F5330V8%3D&RelayState=61664 to authenticate...\n"
     ]
    }
   ],
   "source": [
    "# Establish the connection\n",
    "connection_parameters = {\n",
    "    \"user\": user,\n",
    "    \"account\": account,\n",
    "    \"role\": role,\n",
    "    \"warehouse\": warehouse,\n",
    "    \"database\": database,\n",
    "    \"schema\": schema,\n",
    "    \"authenticator\": \"externalbrowser\"\n",
    "}\n",
    "\n",
    "session = Session.builder.configs(connection_parameters).create()"
   ]
  },
  {
   "cell_type": "code",
   "execution_count": 4,
   "metadata": {},
   "outputs": [],
   "source": [
    "query = \"SELECT * FROM bequests\""
   ]
  },
  {
   "cell_type": "code",
   "execution_count": 5,
   "metadata": {},
   "outputs": [
    {
     "data": {
      "text/html": [
       "<div>\n",
       "<style scoped>\n",
       "    .dataframe tbody tr th:only-of-type {\n",
       "        vertical-align: middle;\n",
       "    }\n",
       "\n",
       "    .dataframe tbody tr th {\n",
       "        vertical-align: top;\n",
       "    }\n",
       "\n",
       "    .dataframe thead th {\n",
       "        text-align: right;\n",
       "    }\n",
       "</style>\n",
       "<table border=\"1\" class=\"dataframe\">\n",
       "  <thead>\n",
       "    <tr style=\"text-align: right;\">\n",
       "      <th></th>\n",
       "      <th>ROI_ID</th>\n",
       "      <th>ROI_FAMILY_ID</th>\n",
       "      <th>HOH_BIRTH_DATE</th>\n",
       "      <th>CITY</th>\n",
       "      <th>STATE</th>\n",
       "      <th>ZIPCODE</th>\n",
       "      <th>REGION_CODE</th>\n",
       "      <th>TOTAL_TRANSACTIONS</th>\n",
       "      <th>TOTAL_AMOUNT</th>\n",
       "      <th>FIRST_GIFT_AMOUNT</th>\n",
       "      <th>...</th>\n",
       "      <th>IWAVE_PLANNED_GIVING</th>\n",
       "      <th>IWAVE_PROSPECT_CLASSIFICATION</th>\n",
       "      <th>IWAVE_SUGGESTED_CULTIVATION</th>\n",
       "      <th>IWAVE_SUGGESTED_ENGAGEMENT_LEAD</th>\n",
       "      <th>FIRST_BEQUEST_DATE</th>\n",
       "      <th>LAST_BEQUEST_DATE</th>\n",
       "      <th>FIRST_BEQUEST_FISCAL_YEAR</th>\n",
       "      <th>LAST_BEQUEST_FISCAL_YEAR</th>\n",
       "      <th>FIRST_BEQUEST_NET_AMOUNT</th>\n",
       "      <th>LAST_BEQUEST_NET_AMOUNT</th>\n",
       "    </tr>\n",
       "  </thead>\n",
       "  <tbody>\n",
       "    <tr>\n",
       "      <th>0</th>\n",
       "      <td>33930223</td>\n",
       "      <td>33930223</td>\n",
       "      <td>1942-11-01</td>\n",
       "      <td>New York</td>\n",
       "      <td>NY</td>\n",
       "      <td>10028</td>\n",
       "      <td>NERO</td>\n",
       "      <td>3.0</td>\n",
       "      <td>55.0</td>\n",
       "      <td>25.0</td>\n",
       "      <td>...</td>\n",
       "      <td></td>\n",
       "      <td></td>\n",
       "      <td></td>\n",
       "      <td></td>\n",
       "      <td>None</td>\n",
       "      <td>None</td>\n",
       "      <td>NaN</td>\n",
       "      <td>NaN</td>\n",
       "      <td>NaN</td>\n",
       "      <td>NaN</td>\n",
       "    </tr>\n",
       "    <tr>\n",
       "      <th>1</th>\n",
       "      <td>33930231</td>\n",
       "      <td>33930231</td>\n",
       "      <td>1946-08-07</td>\n",
       "      <td>Hampton</td>\n",
       "      <td>CT</td>\n",
       "      <td>06247-1312</td>\n",
       "      <td>NERO</td>\n",
       "      <td>29.0</td>\n",
       "      <td>950.0</td>\n",
       "      <td>15.0</td>\n",
       "      <td>...</td>\n",
       "      <td></td>\n",
       "      <td>NPCA Champion</td>\n",
       "      <td>Annual</td>\n",
       "      <td>Membership</td>\n",
       "      <td>None</td>\n",
       "      <td>None</td>\n",
       "      <td>NaN</td>\n",
       "      <td>NaN</td>\n",
       "      <td>NaN</td>\n",
       "      <td>NaN</td>\n",
       "    </tr>\n",
       "    <tr>\n",
       "      <th>2</th>\n",
       "      <td>33930249</td>\n",
       "      <td>33930249</td>\n",
       "      <td>1964-02-11</td>\n",
       "      <td>Danbury</td>\n",
       "      <td>CT</td>\n",
       "      <td>06810-7910</td>\n",
       "      <td>NERO</td>\n",
       "      <td>14.0</td>\n",
       "      <td>415.0</td>\n",
       "      <td>15.0</td>\n",
       "      <td>...</td>\n",
       "      <td>Potential PG Prospect</td>\n",
       "      <td>NPCA Champion</td>\n",
       "      <td>Annual</td>\n",
       "      <td>Membership</td>\n",
       "      <td>None</td>\n",
       "      <td>None</td>\n",
       "      <td>NaN</td>\n",
       "      <td>NaN</td>\n",
       "      <td>NaN</td>\n",
       "      <td>NaN</td>\n",
       "    </tr>\n",
       "    <tr>\n",
       "      <th>3</th>\n",
       "      <td>33930264</td>\n",
       "      <td>33930264</td>\n",
       "      <td>None</td>\n",
       "      <td>Calistoga</td>\n",
       "      <td>CA</td>\n",
       "      <td>94515-1569</td>\n",
       "      <td>PARO</td>\n",
       "      <td>1.0</td>\n",
       "      <td>15.0</td>\n",
       "      <td>15.0</td>\n",
       "      <td>...</td>\n",
       "      <td></td>\n",
       "      <td></td>\n",
       "      <td></td>\n",
       "      <td></td>\n",
       "      <td>None</td>\n",
       "      <td>None</td>\n",
       "      <td>NaN</td>\n",
       "      <td>NaN</td>\n",
       "      <td>NaN</td>\n",
       "      <td>NaN</td>\n",
       "    </tr>\n",
       "    <tr>\n",
       "      <th>4</th>\n",
       "      <td>33930272</td>\n",
       "      <td>33930272</td>\n",
       "      <td>1964-12-20</td>\n",
       "      <td>Princeton</td>\n",
       "      <td>NJ</td>\n",
       "      <td>08540-9491</td>\n",
       "      <td>NERO</td>\n",
       "      <td>23.0</td>\n",
       "      <td>1720.0</td>\n",
       "      <td>25.0</td>\n",
       "      <td>...</td>\n",
       "      <td>Potential PG Prospect</td>\n",
       "      <td>NPCA Champion</td>\n",
       "      <td>Research Driven</td>\n",
       "      <td>Membership</td>\n",
       "      <td>None</td>\n",
       "      <td>None</td>\n",
       "      <td>NaN</td>\n",
       "      <td>NaN</td>\n",
       "      <td>NaN</td>\n",
       "      <td>NaN</td>\n",
       "    </tr>\n",
       "  </tbody>\n",
       "</table>\n",
       "<p>5 rows × 28 columns</p>\n",
       "</div>"
      ],
      "text/plain": [
       "     ROI_ID  ROI_FAMILY_ID HOH_BIRTH_DATE       CITY STATE     ZIPCODE  \\\n",
       "0  33930223       33930223     1942-11-01   New York    NY       10028   \n",
       "1  33930231       33930231     1946-08-07    Hampton    CT  06247-1312   \n",
       "2  33930249       33930249     1964-02-11    Danbury    CT  06810-7910   \n",
       "3  33930264       33930264           None  Calistoga    CA  94515-1569   \n",
       "4  33930272       33930272     1964-12-20  Princeton    NJ  08540-9491   \n",
       "\n",
       "  REGION_CODE  TOTAL_TRANSACTIONS  TOTAL_AMOUNT  FIRST_GIFT_AMOUNT  ...  \\\n",
       "0        NERO                 3.0          55.0               25.0  ...   \n",
       "1        NERO                29.0         950.0               15.0  ...   \n",
       "2        NERO                14.0         415.0               15.0  ...   \n",
       "3        PARO                 1.0          15.0               15.0  ...   \n",
       "4        NERO                23.0        1720.0               25.0  ...   \n",
       "\n",
       "    IWAVE_PLANNED_GIVING IWAVE_PROSPECT_CLASSIFICATION  \\\n",
       "0                                                        \n",
       "1                                        NPCA Champion   \n",
       "2  Potential PG Prospect                 NPCA Champion   \n",
       "3                                                        \n",
       "4  Potential PG Prospect                 NPCA Champion   \n",
       "\n",
       "   IWAVE_SUGGESTED_CULTIVATION IWAVE_SUGGESTED_ENGAGEMENT_LEAD  \\\n",
       "0                                                                \n",
       "1                       Annual                      Membership   \n",
       "2                       Annual                      Membership   \n",
       "3                                                                \n",
       "4              Research Driven                      Membership   \n",
       "\n",
       "   FIRST_BEQUEST_DATE LAST_BEQUEST_DATE FIRST_BEQUEST_FISCAL_YEAR  \\\n",
       "0                None              None                       NaN   \n",
       "1                None              None                       NaN   \n",
       "2                None              None                       NaN   \n",
       "3                None              None                       NaN   \n",
       "4                None              None                       NaN   \n",
       "\n",
       "  LAST_BEQUEST_FISCAL_YEAR FIRST_BEQUEST_NET_AMOUNT LAST_BEQUEST_NET_AMOUNT  \n",
       "0                      NaN                      NaN                     NaN  \n",
       "1                      NaN                      NaN                     NaN  \n",
       "2                      NaN                      NaN                     NaN  \n",
       "3                      NaN                      NaN                     NaN  \n",
       "4                      NaN                      NaN                     NaN  \n",
       "\n",
       "[5 rows x 28 columns]"
      ]
     },
     "execution_count": 5,
     "metadata": {},
     "output_type": "execute_result"
    }
   ],
   "source": [
    "bequests_df = session.sql(query).to_pandas()\n",
    "bequests_df.head()"
   ]
  },
  {
   "cell_type": "code",
   "execution_count": 6,
   "metadata": {},
   "outputs": [
    {
     "data": {
      "text/plain": [
       "Index(['ROI_ID', 'ROI_FAMILY_ID', 'HOH_BIRTH_DATE', 'CITY', 'STATE', 'ZIPCODE',\n",
       "       'REGION_CODE', 'TOTAL_TRANSACTIONS', 'TOTAL_AMOUNT',\n",
       "       'FIRST_GIFT_AMOUNT', 'FIRST_GIFT_DATE', 'MRC_DATE', 'MRC_AMOUNT',\n",
       "       'HPC_DATE', 'HPC_AMOUNT', 'IWAVE_EXTERNAL_GIVING_VELOCITY',\n",
       "       'IWAVE_GIVING_CAPACITY_5YR', 'IWAVE_GIVING_CAPACITY_SOURCE',\n",
       "       'IWAVE_PLANNED_GIVING', 'IWAVE_PROSPECT_CLASSIFICATION',\n",
       "       'IWAVE_SUGGESTED_CULTIVATION', 'IWAVE_SUGGESTED_ENGAGEMENT_LEAD',\n",
       "       'FIRST_BEQUEST_DATE', 'LAST_BEQUEST_DATE', 'FIRST_BEQUEST_FISCAL_YEAR',\n",
       "       'LAST_BEQUEST_FISCAL_YEAR', 'FIRST_BEQUEST_NET_AMOUNT',\n",
       "       'LAST_BEQUEST_NET_AMOUNT'],\n",
       "      dtype='object')"
      ]
     },
     "execution_count": 6,
     "metadata": {},
     "output_type": "execute_result"
    }
   ],
   "source": [
    "bequests_df.columns"
   ]
  },
  {
   "cell_type": "code",
   "execution_count": 7,
   "metadata": {},
   "outputs": [],
   "source": [
    "# Drop records where TOTAL_TRANSACTIONS is null (keep only those who have donated at least once)\n",
    "bequests_df = bequests_df.dropna(subset=['TOTAL_TRANSACTIONS'])"
   ]
  },
  {
   "cell_type": "code",
   "execution_count": 8,
   "metadata": {},
   "outputs": [],
   "source": [
    "# import life expectancy data\n",
    "le_df = pd.read_csv('U.S._State_Life_Expectancy_by_Sex__2020.csv')"
   ]
  },
  {
   "cell_type": "code",
   "execution_count": 9,
   "metadata": {},
   "outputs": [],
   "source": [
    "# keep only rows in le_df where Sex is \"Total\"\n",
    "le_df = le_df[le_df['Sex'] == 'Total']"
   ]
  },
  {
   "cell_type": "code",
   "execution_count": 10,
   "metadata": {},
   "outputs": [],
   "source": [
    "# drop Sex column\n",
    "le_df = le_df.drop(columns= 'Sex')"
   ]
  },
  {
   "cell_type": "code",
   "execution_count": 11,
   "metadata": {},
   "outputs": [
    {
     "data": {
      "text/html": [
       "<div>\n",
       "<style scoped>\n",
       "    .dataframe tbody tr th:only-of-type {\n",
       "        vertical-align: middle;\n",
       "    }\n",
       "\n",
       "    .dataframe tbody tr th {\n",
       "        vertical-align: top;\n",
       "    }\n",
       "\n",
       "    .dataframe thead th {\n",
       "        text-align: right;\n",
       "    }\n",
       "</style>\n",
       "<table border=\"1\" class=\"dataframe\">\n",
       "  <thead>\n",
       "    <tr style=\"text-align: right;\">\n",
       "      <th></th>\n",
       "      <th>State</th>\n",
       "      <th>LE</th>\n",
       "      <th>SE</th>\n",
       "      <th>Quartile</th>\n",
       "    </tr>\n",
       "  </thead>\n",
       "  <tbody>\n",
       "    <tr>\n",
       "      <th>0</th>\n",
       "      <td>AL</td>\n",
       "      <td>73.2</td>\n",
       "      <td>0.067</td>\n",
       "      <td>71.9 - 75.3</td>\n",
       "    </tr>\n",
       "    <tr>\n",
       "      <th>1</th>\n",
       "      <td>AK</td>\n",
       "      <td>76.6</td>\n",
       "      <td>0.176</td>\n",
       "      <td>75.4 - 76.8</td>\n",
       "    </tr>\n",
       "    <tr>\n",
       "      <th>2</th>\n",
       "      <td>AZ</td>\n",
       "      <td>76.3</td>\n",
       "      <td>0.055</td>\n",
       "      <td>75.4 - 76.8</td>\n",
       "    </tr>\n",
       "    <tr>\n",
       "      <th>3</th>\n",
       "      <td>AR</td>\n",
       "      <td>73.8</td>\n",
       "      <td>0.086</td>\n",
       "      <td>71.9 - 75.3</td>\n",
       "    </tr>\n",
       "    <tr>\n",
       "      <th>4</th>\n",
       "      <td>CA</td>\n",
       "      <td>79.0</td>\n",
       "      <td>0.022</td>\n",
       "      <td>78.1 - 80.7</td>\n",
       "    </tr>\n",
       "  </tbody>\n",
       "</table>\n",
       "</div>"
      ],
      "text/plain": [
       "  State    LE     SE     Quartile\n",
       "0    AL  73.2  0.067  71.9 - 75.3\n",
       "1    AK  76.6  0.176  75.4 - 76.8\n",
       "2    AZ  76.3  0.055  75.4 - 76.8\n",
       "3    AR  73.8  0.086  71.9 - 75.3\n",
       "4    CA  79.0  0.022  78.1 - 80.7"
      ]
     },
     "execution_count": 11,
     "metadata": {},
     "output_type": "execute_result"
    }
   ],
   "source": [
    "# Dictionary of state abbreviations\n",
    "state_abbreviations = {\n",
    "    'Alabama': 'AL', 'Alaska': 'AK', 'Arizona': 'AZ', 'Arkansas': 'AR', 'California': 'CA',\n",
    "    'Colorado': 'CO', 'Connecticut': 'CT', 'Delaware': 'DE', 'Florida': 'FL',\n",
    "    'Georgia': 'GA', 'Hawaii': 'HI', 'Idaho': 'ID', 'Illinois': 'IL', 'Indiana': 'IN',\n",
    "    'Iowa': 'IA', 'Kansas': 'KS', 'Kentucky': 'KY', 'Louisiana': 'LA', 'Maine': 'ME',\n",
    "    'Maryland': 'MD', 'Massachusetts': 'MA', 'Michigan': 'MI', 'Minnesota': 'MN',\n",
    "    'Mississippi': 'MS', 'Missouri': 'MO', 'Montana': 'MT', 'Nebraska': 'NE',\n",
    "    'Nevada': 'NV', 'New Hampshire': 'NH', 'New Jersey': 'NJ', 'New Mexico': 'NM',\n",
    "    'New York': 'NY', 'North Carolina': 'NC', 'North Dakota': 'ND', 'Ohio': 'OH',\n",
    "    'Oklahoma': 'OK', 'Oregon': 'OR', 'Pennsylvania': 'PA', 'Rhode Island': 'RI',\n",
    "    'South Carolina': 'SC', 'South Dakota': 'SD', 'Tennessee': 'TN', 'Texas': 'TX',\n",
    "    'Utah': 'UT', 'Vermont': 'VT', 'Virginia': 'VA', 'Washington': 'WA',\n",
    "    'West Virginia': 'WV', 'Wisconsin': 'WI', 'Wyoming': 'WY'\n",
    "}\n",
    "\n",
    "# Applying the dictionary to replace full state names with abbreviations\n",
    "le_df['State'] = le_df['State'].map(state_abbreviations)\n",
    "le_df.head()\n"
   ]
  },
  {
   "cell_type": "code",
   "execution_count": 12,
   "metadata": {},
   "outputs": [
    {
     "data": {
      "text/plain": [
       "Index(['ROI_ID', 'ROI_FAMILY_ID', 'ROI_ORIGINAL_ID', 'ROI_STATUS',\n",
       "       'LAST_CHANGE_USER', 'LAST_CHANGE_DATE', 'FLAG_ID', 'ORIGINATION_VENDOR',\n",
       "       'EFFECTIVE_DATE', 'END_DATE', 'REMOVAL_DATE', 'FLAGSTD_CODE',\n",
       "       'FLAGSTD_NAME', 'ORIGINATION_VENDOR_CODE', 'ORIGINATION_VENDOR_NAME'],\n",
       "      dtype='object')"
      ]
     },
     "execution_count": 12,
     "metadata": {},
     "output_type": "execute_result"
    }
   ],
   "source": [
    "# Load the deaths data\n",
    "deaths_df = pd.read_csv('death_flags.csv')\n",
    "# Trim white space from column names and replace spaces with underscores\n",
    "deaths_df.columns = deaths_df.columns.str.strip().str.replace(' ', '_')\n",
    "deaths_df.columns"
   ]
  },
  {
   "cell_type": "code",
   "execution_count": 13,
   "metadata": {},
   "outputs": [
    {
     "data": {
      "text/html": [
       "<div>\n",
       "<style scoped>\n",
       "    .dataframe tbody tr th:only-of-type {\n",
       "        vertical-align: middle;\n",
       "    }\n",
       "\n",
       "    .dataframe tbody tr th {\n",
       "        vertical-align: top;\n",
       "    }\n",
       "\n",
       "    .dataframe thead th {\n",
       "        text-align: right;\n",
       "    }\n",
       "</style>\n",
       "<table border=\"1\" class=\"dataframe\">\n",
       "  <thead>\n",
       "    <tr style=\"text-align: right;\">\n",
       "      <th></th>\n",
       "      <th>ROI_ID</th>\n",
       "      <th>ROI_FAMILY_ID</th>\n",
       "      <th>ROI_ORIGINAL_ID</th>\n",
       "      <th>ROI_STATUS</th>\n",
       "      <th>LAST_CHANGE_USER</th>\n",
       "      <th>LAST_CHANGE_DATE</th>\n",
       "      <th>FLAG_ID</th>\n",
       "      <th>ORIGINATION_VENDOR</th>\n",
       "      <th>EFFECTIVE_DATE</th>\n",
       "      <th>END_DATE</th>\n",
       "      <th>REMOVAL_DATE</th>\n",
       "      <th>FLAGSTD_CODE</th>\n",
       "      <th>FLAGSTD_NAME</th>\n",
       "      <th>ORIGINATION_VENDOR_CODE</th>\n",
       "      <th>ORIGINATION_VENDOR_NAME</th>\n",
       "    </tr>\n",
       "  </thead>\n",
       "  <tbody>\n",
       "    <tr>\n",
       "      <th>0</th>\n",
       "      <td>26</td>\n",
       "      <td>26</td>\n",
       "      <td>26.0</td>\n",
       "      <td>A</td>\n",
       "      <td>TVINES</td>\n",
       "      <td>05/15/2019 15:43:22</td>\n",
       "      <td>592</td>\n",
       "      <td>669</td>\n",
       "      <td>03/12/2010</td>\n",
       "      <td>NaN</td>\n",
       "      <td>NaN</td>\n",
       "      <td>DECEASED</td>\n",
       "      <td>Deceased</td>\n",
       "      <td>ROI SOLUTIONS</td>\n",
       "      <td>ROI Solutions</td>\n",
       "    </tr>\n",
       "    <tr>\n",
       "      <th>1</th>\n",
       "      <td>75</td>\n",
       "      <td>75</td>\n",
       "      <td>75.0</td>\n",
       "      <td>A</td>\n",
       "      <td>KHEISTON UP_10691_556864</td>\n",
       "      <td>05/11/2020 17:00:06</td>\n",
       "      <td>592</td>\n",
       "      <td>207285</td>\n",
       "      <td>03/18/2020</td>\n",
       "      <td>NaN</td>\n",
       "      <td>NaN</td>\n",
       "      <td>DECEASED</td>\n",
       "      <td>Deceased</td>\n",
       "      <td>MERKLE</td>\n",
       "      <td>Merkle</td>\n",
       "    </tr>\n",
       "    <tr>\n",
       "      <th>2</th>\n",
       "      <td>216</td>\n",
       "      <td>216</td>\n",
       "      <td>216.0</td>\n",
       "      <td>A</td>\n",
       "      <td>ADAROSA_J083633</td>\n",
       "      <td>06/06/2024 13:57:19</td>\n",
       "      <td>592</td>\n",
       "      <td>669</td>\n",
       "      <td>05/15/2019</td>\n",
       "      <td>NaN</td>\n",
       "      <td>NaN</td>\n",
       "      <td>DECEASED</td>\n",
       "      <td>Deceased</td>\n",
       "      <td>ROI SOLUTIONS</td>\n",
       "      <td>ROI Solutions</td>\n",
       "    </tr>\n",
       "    <tr>\n",
       "      <th>3</th>\n",
       "      <td>1164</td>\n",
       "      <td>1164</td>\n",
       "      <td>1164.0</td>\n",
       "      <td>A</td>\n",
       "      <td>KJONES UP_10682_1001858 Merkle Upload for NPCA</td>\n",
       "      <td>10/30/2023 18:33:35</td>\n",
       "      <td>592</td>\n",
       "      <td>207285</td>\n",
       "      <td>09/27/2023</td>\n",
       "      <td>NaN</td>\n",
       "      <td>NaN</td>\n",
       "      <td>DECEASED</td>\n",
       "      <td>Deceased</td>\n",
       "      <td>MERKLE</td>\n",
       "      <td>Merkle</td>\n",
       "    </tr>\n",
       "    <tr>\n",
       "      <th>4</th>\n",
       "      <td>2782</td>\n",
       "      <td>2782</td>\n",
       "      <td>2782.0</td>\n",
       "      <td>A</td>\n",
       "      <td>ADAROSA_J083633</td>\n",
       "      <td>06/06/2024 13:57:52</td>\n",
       "      <td>592</td>\n",
       "      <td>669</td>\n",
       "      <td>05/15/2019</td>\n",
       "      <td>NaN</td>\n",
       "      <td>NaN</td>\n",
       "      <td>DECEASED</td>\n",
       "      <td>Deceased</td>\n",
       "      <td>ROI SOLUTIONS</td>\n",
       "      <td>ROI Solutions</td>\n",
       "    </tr>\n",
       "  </tbody>\n",
       "</table>\n",
       "</div>"
      ],
      "text/plain": [
       "   ROI_ID  ROI_FAMILY_ID  ROI_ORIGINAL_ID ROI_STATUS  \\\n",
       "0      26             26             26.0          A   \n",
       "1      75             75             75.0          A   \n",
       "2     216            216            216.0          A   \n",
       "3    1164           1164           1164.0          A   \n",
       "4    2782           2782           2782.0          A   \n",
       "\n",
       "                                 LAST_CHANGE_USER     LAST_CHANGE_DATE  \\\n",
       "0                                          TVINES  05/15/2019 15:43:22   \n",
       "1                        KHEISTON UP_10691_556864  05/11/2020 17:00:06   \n",
       "2                                 ADAROSA_J083633  06/06/2024 13:57:19   \n",
       "3  KJONES UP_10682_1001858 Merkle Upload for NPCA  10/30/2023 18:33:35   \n",
       "4                                 ADAROSA_J083633  06/06/2024 13:57:52   \n",
       "\n",
       "   FLAG_ID  ORIGINATION_VENDOR EFFECTIVE_DATE END_DATE  REMOVAL_DATE  \\\n",
       "0      592                 669     03/12/2010      NaN           NaN   \n",
       "1      592              207285     03/18/2020      NaN           NaN   \n",
       "2      592                 669     05/15/2019      NaN           NaN   \n",
       "3      592              207285     09/27/2023      NaN           NaN   \n",
       "4      592                 669     05/15/2019      NaN           NaN   \n",
       "\n",
       "  FLAGSTD_CODE FLAGSTD_NAME ORIGINATION_VENDOR_CODE ORIGINATION_VENDOR_NAME  \n",
       "0     DECEASED     Deceased           ROI SOLUTIONS           ROI Solutions  \n",
       "1     DECEASED     Deceased                  MERKLE                  Merkle  \n",
       "2     DECEASED     Deceased           ROI SOLUTIONS           ROI Solutions  \n",
       "3     DECEASED     Deceased                  MERKLE                  Merkle  \n",
       "4     DECEASED     Deceased           ROI SOLUTIONS           ROI Solutions  "
      ]
     },
     "execution_count": 13,
     "metadata": {},
     "output_type": "execute_result"
    }
   ],
   "source": [
    "deaths_df.head()"
   ]
  },
  {
   "cell_type": "code",
   "execution_count": 14,
   "metadata": {},
   "outputs": [
    {
     "data": {
      "text/plain": [
       "dtype('int64')"
      ]
     },
     "execution_count": 14,
     "metadata": {},
     "output_type": "execute_result"
    }
   ],
   "source": [
    "# Add column called 'DEATH_FLAG' to bequests_df that is 1 if the ROI_FAMILY_ID is in deaths_df and 0 otherwise match on ROI_FAMILY_ID\n",
    "bequests_df['DEATH_FLAG'] = bequests_df['ROI_FAMILY_ID'].isin(deaths_df['ROI_FAMILY_ID']).astype(int)\n",
    "bequests_df['DEATH_FLAG'].dtype"
   ]
  },
  {
   "cell_type": "code",
   "execution_count": 15,
   "metadata": {},
   "outputs": [
    {
     "data": {
      "text/plain": [
       "2.090474347938689"
      ]
     },
     "execution_count": 15,
     "metadata": {},
     "output_type": "execute_result"
    }
   ],
   "source": [
    "# Find proportion of DEAD_FLAG that are 1\n",
    "deads = bequests_df['DEATH_FLAG'].mean()\n",
    "deads * 100"
   ]
  },
  {
   "cell_type": "code",
   "execution_count": 16,
   "metadata": {},
   "outputs": [],
   "source": [
    "# Create YEARS_SINCE_FIRST_GIFT based on time since FIRST_GIFT_DATE\n",
    "bequests_df['YEARS_SINCE_FIRST_GIFT'] = (datetime.now() - pd.to_datetime(bequests_df['FIRST_GIFT_DATE'])).dt.days // 365\n",
    "# Drop FIRST_GIFT_DATE\n",
    "bequests_df = bequests_df.drop(columns='FIRST_GIFT_DATE')"
   ]
  },
  {
   "cell_type": "code",
   "execution_count": 17,
   "metadata": {},
   "outputs": [],
   "source": [
    "# Create YEARS_SINCE_MRC_GIFT based on time since MRC_DATE\n",
    "bequests_df['YEARS_SINCE_MRC_GIFT'] = (datetime.now() - pd.to_datetime(bequests_df['MRC_DATE'])).dt.days // 365\n",
    "# Drop MRC_DATE\n",
    "bequests_df = bequests_df.drop(columns='MRC_DATE')"
   ]
  },
  {
   "cell_type": "code",
   "execution_count": 18,
   "metadata": {},
   "outputs": [],
   "source": [
    "# Create YEARS_SINCE_HPC_GIFT based on time since HPC_DATE\n",
    "bequests_df['YEARS_SINCE_HPC_GIFT'] = (datetime.now() - pd.to_datetime(bequests_df['HPC_DATE'])).dt.days // 365\n",
    "# Drop HPC_DATE\n",
    "bequests_df = bequests_df.drop(columns='HPC_DATE')"
   ]
  },
  {
   "cell_type": "code",
   "execution_count": 19,
   "metadata": {},
   "outputs": [],
   "source": [
    "# Create a column BEQUEST_RECEIVED that is 1 if FIRST_BEQUEST_DATE is not NaT and 0 otherwise\n",
    "bequests_df['BEQUEST_RECEIVED'] = bequests_df['FIRST_BEQUEST_DATE'].notnull().astype(int)\n",
    "\n",
    "# Drop 'FIRST_BEQUEST_DATE'\n",
    "bequests_df = bequests_df.drop(columns=['FIRST_BEQUEST_DATE'])\n",
    "\n",
    "bequest_donors = bequests_df[bequests_df['BEQUEST_RECEIVED'] == 1]"
   ]
  },
  {
   "cell_type": "code",
   "execution_count": 20,
   "metadata": {},
   "outputs": [],
   "source": [
    "# Create BIRTH_YEAR column from HOH_BIRTH_DATE\n",
    "bequests_df['BIRTH_YEAR'] = pd.to_datetime(bequests_df['HOH_BIRTH_DATE']).dt.year\n",
    "# Drop HOH_BIRTH_DATE\n",
    "bequests_df = bequests_df.drop(columns='HOH_BIRTH_DATE')"
   ]
  },
  {
   "cell_type": "code",
   "execution_count": 21,
   "metadata": {},
   "outputs": [],
   "source": [
    "# Function to match donors to life expectancy based location\n",
    "def match_life_expectancy(row):\n",
    "    location = row['STATE']  # Assuming 'region' column in your donor data\n",
    "    le_data = le_df[(le_df['State'] == location)]\n",
    "    return le_data['LE'].values[0] if not le_data.empty else np.nan"
   ]
  },
  {
   "cell_type": "code",
   "execution_count": 22,
   "metadata": {},
   "outputs": [],
   "source": [
    "bequests_df['LE'] = bequests_df.apply(match_life_expectancy, axis=1)"
   ]
  },
  {
   "cell_type": "code",
   "execution_count": 23,
   "metadata": {},
   "outputs": [
    {
     "data": {
      "text/plain": [
       "Index(['ROI_ID', 'ROI_FAMILY_ID', 'STATE', 'REGION_CODE', 'TOTAL_TRANSACTIONS',\n",
       "       'TOTAL_AMOUNT', 'FIRST_GIFT_AMOUNT', 'MRC_AMOUNT', 'HPC_AMOUNT',\n",
       "       'DEATH_FLAG', 'YEARS_SINCE_FIRST_GIFT', 'YEARS_SINCE_MRC_GIFT',\n",
       "       'YEARS_SINCE_HPC_GIFT', 'BEQUEST_RECEIVED', 'BIRTH_YEAR', 'LE'],\n",
       "      dtype='object')"
      ]
     },
     "execution_count": 23,
     "metadata": {},
     "output_type": "execute_result"
    }
   ],
   "source": [
    "# Drop all columns that start with IWAVE\n",
    "iwave_cols = [col for col in bequests_df.columns if 'IWAVE' in col]\n",
    "bequests_df = bequests_df.drop(columns=iwave_cols)\n",
    "\n",
    "# Drop other cols\n",
    "bequests_df = bequests_df.drop(columns=['CITY', 'ZIPCODE','LAST_BEQUEST_DATE',\n",
    "                                         'FIRST_BEQUEST_FISCAL_YEAR', 'LAST_BEQUEST_FISCAL_YEAR',\n",
    "                                         'FIRST_BEQUEST_NET_AMOUNT', 'LAST_BEQUEST_NET_AMOUNT'\n",
    "                                         ])\n",
    "\n",
    "# Drop \n",
    "bequests_df.columns"
   ]
  },
  {
   "cell_type": "code",
   "execution_count": 24,
   "metadata": {},
   "outputs": [],
   "source": [
    "# Drop records where LE is null\n",
    "bequests_df = bequests_df.dropna(subset=['LE'])"
   ]
  },
  {
   "cell_type": "code",
   "execution_count": 25,
   "metadata": {},
   "outputs": [
    {
     "data": {
      "text/plain": [
       "ROI_ID                     0.000000\n",
       "ROI_FAMILY_ID              0.000000\n",
       "STATE                      0.000000\n",
       "REGION_CODE                0.000000\n",
       "TOTAL_TRANSACTIONS         0.000000\n",
       "TOTAL_AMOUNT               0.000000\n",
       "FIRST_GIFT_AMOUNT          0.000000\n",
       "MRC_AMOUNT                 0.000000\n",
       "HPC_AMOUNT                 0.000000\n",
       "DEATH_FLAG                 0.000000\n",
       "YEARS_SINCE_FIRST_GIFT     0.000000\n",
       "YEARS_SINCE_MRC_GIFT       0.000000\n",
       "YEARS_SINCE_HPC_GIFT       0.000000\n",
       "BEQUEST_RECEIVED           0.000000\n",
       "BIRTH_YEAR                55.992312\n",
       "LE                         0.000000\n",
       "dtype: float64"
      ]
     },
     "execution_count": 25,
     "metadata": {},
     "output_type": "execute_result"
    }
   ],
   "source": [
    "# Find percentage of missing values in each column\n",
    "missing = bequests_df.isnull().mean() * 100\n",
    "missing"
   ]
  },
  {
   "cell_type": "code",
   "execution_count": 26,
   "metadata": {},
   "outputs": [],
   "source": [
    "# Write to csv\n",
    "bequests_df.to_csv('bequests_cleaned.csv', index=False)"
   ]
  },
  {
   "cell_type": "code",
   "execution_count": 3,
   "metadata": {},
   "outputs": [],
   "source": [
    "bequests_df = pd.read_csv('bequests_cleaned.csv')"
   ]
  },
  {
   "cell_type": "markdown",
   "metadata": {},
   "source": [
    "## Impute missing values"
   ]
  },
  {
   "cell_type": "code",
   "execution_count": 4,
   "metadata": {},
   "outputs": [
    {
     "data": {
      "text/plain": [
       "(4520008, 16)"
      ]
     },
     "execution_count": 4,
     "metadata": {},
     "output_type": "execute_result"
    }
   ],
   "source": [
    "bequests_df.shape"
   ]
  },
  {
   "cell_type": "code",
   "execution_count": 5,
   "metadata": {},
   "outputs": [
    {
     "data": {
      "text/plain": [
       "ROI_ID                      int64\n",
       "ROI_FAMILY_ID               int64\n",
       "STATE                      object\n",
       "REGION_CODE                object\n",
       "TOTAL_TRANSACTIONS        float64\n",
       "TOTAL_AMOUNT              float64\n",
       "FIRST_GIFT_AMOUNT         float64\n",
       "MRC_AMOUNT                float64\n",
       "HPC_AMOUNT                float64\n",
       "DEATH_FLAG                  int64\n",
       "YEARS_SINCE_FIRST_GIFT      int64\n",
       "YEARS_SINCE_MRC_GIFT        int64\n",
       "YEARS_SINCE_HPC_GIFT        int64\n",
       "BEQUEST_RECEIVED            int64\n",
       "BIRTH_YEAR                float64\n",
       "LE                        float64\n",
       "dtype: object"
      ]
     },
     "execution_count": 5,
     "metadata": {},
     "output_type": "execute_result"
    }
   ],
   "source": [
    "bequests_df.dtypes"
   ]
  },
  {
   "cell_type": "code",
   "execution_count": 6,
   "metadata": {},
   "outputs": [
    {
     "data": {
      "text/plain": [
       "370"
      ]
     },
     "execution_count": 6,
     "metadata": {},
     "output_type": "execute_result"
    }
   ],
   "source": [
    "# find number of bequests received among dead people\n",
    "bequests_df[bequests_df['DEATH_FLAG'] == 1]['BEQUEST_RECEIVED'].sum()"
   ]
  },
  {
   "cell_type": "code",
   "execution_count": 7,
   "metadata": {},
   "outputs": [
    {
     "data": {
      "text/plain": [
       "34"
      ]
     },
     "execution_count": 7,
     "metadata": {},
     "output_type": "execute_result"
    }
   ],
   "source": [
    "# find the number of bequests received among living people\n",
    "bequests_df[bequests_df['DEATH_FLAG'] == 0]['BEQUEST_RECEIVED'].sum()"
   ]
  },
  {
   "cell_type": "code",
   "execution_count": 9,
   "metadata": {},
   "outputs": [
    {
     "name": "stderr",
     "output_type": "stream",
     "text": [
      "/var/folders/sz/t5qbt_3j01lc9b5ld0tfvkv80000gn/T/ipykernel_59023/3928934427.py:2: UserWarning: Boolean Series key will be reindexed to match DataFrame index.\n",
      "  bequests_df[bequests_df['DEATH_FLAG'] == 0][bequests_df['BEQUEST_RECEIVED'] == 1]['ROI_ID'].unique()\n"
     ]
    },
    {
     "data": {
      "text/plain": [
       "array([ 37725009,  38737730,  61620175,  64164387,  66606930,  81889172,\n",
       "        83549576,  90275892,  91734608,  94412632,  94543436,  10860575,\n",
       "        20423489,  26983619,  27396316, 100003858, 100004534, 100005730,\n",
       "       100013705, 100135675, 100314125, 100329938, 100371765, 100460846,\n",
       "       100548814, 100589613, 100600842, 100822093,  69629970,   2227494,\n",
       "         5573985,   6675219,  16681983])"
      ]
     },
     "execution_count": 9,
     "metadata": {},
     "output_type": "execute_result"
    }
   ],
   "source": [
    "# List the ROI_ID of the bequests received among living people\n",
    "bequests_df[bequests_df['DEATH_FLAG'] == 0][bequests_df['BEQUEST_RECEIVED'] == 1]['ROI_ID'].unique()"
   ]
  },
  {
   "cell_type": "code",
   "execution_count": 90,
   "metadata": {},
   "outputs": [
    {
     "data": {
      "text/plain": [
       "94427"
      ]
     },
     "execution_count": 90,
     "metadata": {},
     "output_type": "execute_result"
    }
   ],
   "source": [
    "# total number of dead people\n",
    "bequests_df['DEATH_FLAG'].sum()"
   ]
  },
  {
   "cell_type": "code",
   "execution_count": 89,
   "metadata": {},
   "outputs": [
    {
     "data": {
      "text/plain": [
       "0.0039183708049604455"
      ]
     },
     "execution_count": 89,
     "metadata": {},
     "output_type": "execute_result"
    }
   ],
   "source": [
    "# proportion of bequestors among dead people\n",
    "bequests_df[bequests_df['DEATH_FLAG'] == 1]['BEQUEST_RECEIVED'].sum() / bequests_df['DEATH_FLAG'].sum()"
   ]
  },
  {
   "cell_type": "code",
   "execution_count": 77,
   "metadata": {},
   "outputs": [],
   "source": [
    "# Define imputers\n",
    "imputers = {\n",
    "    'median': SimpleImputer(strategy='median'),\n",
    "    'mean': SimpleImputer(strategy='mean'),\n",
    "    'mice': IterativeImputer(random_state=42)\n",
    "}"
   ]
  },
  {
   "cell_type": "code",
   "execution_count": 78,
   "metadata": {},
   "outputs": [],
   "source": [
    "# Store results\n",
    "results = []"
   ]
  },
  {
   "cell_type": "code",
   "execution_count": 79,
   "metadata": {},
   "outputs": [],
   "source": [
    "# Features to be used for prediction\n",
    "features = [\n",
    "    'REGION_CODE',\n",
    "    'TOTAL_TRANSACTIONS',\n",
    "    'TOTAL_AMOUNT',\n",
    "    'FIRST_GIFT_AMOUNT',\n",
    "    'MRC_AMOUNT',\n",
    "    'HPC_AMOUNT',\n",
    "    'YEARS_SINCE_FIRST_GIFT',\n",
    "    'YEARS_SINCE_MRC_GIFT',\n",
    "    'YEARS_SINCE_HPC_GIFT',\n",
    "    'BIRTH_YEAR'\n",
    "]"
   ]
  },
  {
   "cell_type": "code",
   "execution_count": 80,
   "metadata": {},
   "outputs": [],
   "source": [
    "# Function to evaluate imputation method\n",
    "def evaluate_imputation(bequests_df, imputer_name, imputer):\n",
    "    # Impute BIRTH_YEAR\n",
    "    bequests_df['BIRTH_YEAR'] = imputer.fit_transform(bequests_df[['BIRTH_YEAR']])\n",
    "    \n",
    "    # Encode categorical variables\n",
    "    bequests_df = pd.get_dummies(bequests_df, columns=['REGION_CODE'], drop_first=True)\n",
    "    \n",
    "    # Define features after one-hot encoding\n",
    "    feature_columns = [\n",
    "        'TOTAL_TRANSACTIONS',\n",
    "        'TOTAL_AMOUNT',\n",
    "        'FIRST_GIFT_AMOUNT',\n",
    "        'MRC_AMOUNT',\n",
    "        'HPC_AMOUNT',\n",
    "        'YEARS_SINCE_FIRST_GIFT',\n",
    "        'YEARS_SINCE_MRC_GIFT',\n",
    "        'YEARS_SINCE_HPC_GIFT',\n",
    "        'BIRTH_YEAR'\n",
    "    ] + [col for col in bequests_df.columns if col.startswith('REGION_CODE_')]\n",
    "    \n",
    "    # Filter the dataset to include only dead individuals in the test set\n",
    "    test_df = bequests_df[bequests_df['DEATH_FLAG'] == 1]\n",
    "    train_df = bequests_df[bequests_df['DEATH_FLAG'] == 0]\n",
    "\n",
    "    # Predict Bequest Likelihood\n",
    "    X_train = train_df[feature_columns]\n",
    "    y_train = train_df['BEQUEST_RECEIVED']\n",
    "    X_test = test_df[feature_columns]\n",
    "    y_test = test_df['BEQUEST_RECEIVED']\n",
    "\n",
    "    # Apply SMOTE to the training data\n",
    "    smote = SMOTE(random_state=42)\n",
    "    X_train_res, y_train_res = smote.fit_resample(X_train, y_train)\n",
    "\n",
    "    # Train a classifier\n",
    "    model = RandomForestClassifier(random_state=42)\n",
    "    model.fit(X_train_res, y_train_res)\n",
    "\n",
    "    # Predictions\n",
    "    y_pred = model.predict(X_test)\n",
    "\n",
    "    # Evaluation\n",
    "    accuracy = accuracy_score(y_test, y_pred)\n",
    "    report = classification_report(y_test, y_pred, output_dict=True)\n",
    "    feature_importance = pd.DataFrame({\n",
    "        'Feature': X.columns,\n",
    "        'Importance': model.feature_importances_\n",
    "    }).sort_values(by='Importance', ascending=False)\n",
    "\n",
    "    # Store results\n",
    "    results.append({\n",
    "        'imputer': imputer_name,\n",
    "        'accuracy': accuracy,\n",
    "        'report': pd.DataFrame(report).transpose(),\n",
    "        'feature_importance': feature_importance\n",
    "    })\n"
   ]
  },
  {
   "cell_type": "code",
   "execution_count": null,
   "metadata": {},
   "outputs": [],
   "source": [
    "# Evaluate each imputation method\n",
    "for imputer_name, imputer in imputers.items():\n",
    "    evaluate_imputation(bequests_df.copy(), imputer_name, imputer)\n"
   ]
  },
  {
   "cell_type": "code",
   "execution_count": null,
   "metadata": {},
   "outputs": [],
   "source": [
    "# Display results\n",
    "for result in results:\n",
    "    print(f\"Imputer: {result['imputer']}\")\n",
    "    print(f\"Accuracy: {result['accuracy']}\")\n",
    "    print(f\"Classification Report: {result['report']}\")\n",
    "    print(f\"Feature Importance:\\n{result['feature_importance']}\\n\")\n"
   ]
  },
  {
   "cell_type": "code",
   "execution_count": 59,
   "metadata": {},
   "outputs": [],
   "source": [
    "# Create dataframes for results\n",
    "accuracy_df = pd.DataFrame({result['imputer']: [result['accuracy']] for result in results})\n",
    "classification_reports = {result['imputer']: result['report'] for result in results}\n",
    "feature_importances = {result['imputer']: result['feature_importance'] for result in results}"
   ]
  },
  {
   "cell_type": "code",
   "execution_count": 60,
   "metadata": {},
   "outputs": [
    {
     "data": {
      "text/html": [
       "<div>\n",
       "<style scoped>\n",
       "    .dataframe tbody tr th:only-of-type {\n",
       "        vertical-align: middle;\n",
       "    }\n",
       "\n",
       "    .dataframe tbody tr th {\n",
       "        vertical-align: top;\n",
       "    }\n",
       "\n",
       "    .dataframe thead th {\n",
       "        text-align: right;\n",
       "    }\n",
       "</style>\n",
       "<table border=\"1\" class=\"dataframe\">\n",
       "  <thead>\n",
       "    <tr style=\"text-align: right;\">\n",
       "      <th></th>\n",
       "      <th>median</th>\n",
       "      <th>mean</th>\n",
       "      <th>mice</th>\n",
       "    </tr>\n",
       "  </thead>\n",
       "  <tbody>\n",
       "    <tr>\n",
       "      <th>0</th>\n",
       "      <td>0.999942</td>\n",
       "      <td>0.999944</td>\n",
       "      <td>0.999944</td>\n",
       "    </tr>\n",
       "  </tbody>\n",
       "</table>\n",
       "</div>"
      ],
      "text/plain": [
       "     median      mean      mice\n",
       "0  0.999942  0.999944  0.999944"
      ]
     },
     "execution_count": 60,
     "metadata": {},
     "output_type": "execute_result"
    }
   ],
   "source": [
    "accuracy_df"
   ]
  },
  {
   "cell_type": "code",
   "execution_count": 61,
   "metadata": {},
   "outputs": [
    {
     "data": {
      "text/plain": [
       "{'median': {'0': {'precision': 0.9999502187058191,\n",
       "   'recall': 0.9999922559175852,\n",
       "   'f1-score': 0.9999712368699076,\n",
       "   'support': 903916},\n",
       "  '1': {'precision': 0.8541666666666666,\n",
       "   'recall': 0.47674418604651164,\n",
       "   'f1-score': 0.6119402985074627,\n",
       "   'support': 86},\n",
       "  'accuracy': 0.9999424780033672,\n",
       "  'macro avg': {'precision': 0.9270584426862429,\n",
       "   'recall': 0.7383682209820485,\n",
       "   'f1-score': 0.8059557676886852,\n",
       "   'support': 904002},\n",
       "  'weighted avg': {'precision': 0.9999363499472597,\n",
       "   'recall': 0.9999424780033672,\n",
       "   'f1-score': 0.9999343225039005,\n",
       "   'support': 904002}},\n",
       " 'mean': {'0': {'precision': 0.9999491126237199,\n",
       "   'recall': 0.9999944685125609,\n",
       "   'f1-score': 0.9999717900538366,\n",
       "   'support': 903916},\n",
       "  '1': {'precision': 0.8888888888888888,\n",
       "   'recall': 0.46511627906976744,\n",
       "   'f1-score': 0.6106870229007634,\n",
       "   'support': 86},\n",
       "  'accuracy': 0.9999435841956101,\n",
       "  'macro avg': {'precision': 0.9444190007563044,\n",
       "   'recall': 0.7325553737911642,\n",
       "   'f1-score': 0.8053294064773,\n",
       "   'support': 904002},\n",
       "  'weighted avg': {'precision': 0.9999385471833324,\n",
       "   'recall': 0.9999435841956101,\n",
       "   'f1-score': 0.9999347564079208,\n",
       "   'support': 904002}},\n",
       " 'mice': {'0': {'precision': 0.9999491126237199,\n",
       "   'recall': 0.9999944685125609,\n",
       "   'f1-score': 0.9999717900538366,\n",
       "   'support': 903916},\n",
       "  '1': {'precision': 0.8888888888888888,\n",
       "   'recall': 0.46511627906976744,\n",
       "   'f1-score': 0.6106870229007634,\n",
       "   'support': 86},\n",
       "  'accuracy': 0.9999435841956101,\n",
       "  'macro avg': {'precision': 0.9444190007563044,\n",
       "   'recall': 0.7325553737911642,\n",
       "   'f1-score': 0.8053294064773,\n",
       "   'support': 904002},\n",
       "  'weighted avg': {'precision': 0.9999385471833324,\n",
       "   'recall': 0.9999435841956101,\n",
       "   'f1-score': 0.9999347564079208,\n",
       "   'support': 904002}}}"
      ]
     },
     "execution_count": 61,
     "metadata": {},
     "output_type": "execute_result"
    }
   ],
   "source": [
    "classification_reports"
   ]
  },
  {
   "cell_type": "code",
   "execution_count": 62,
   "metadata": {},
   "outputs": [
    {
     "data": {
      "text/plain": [
       "{'median':                    Feature  Importance\n",
       " 4               HPC_AMOUNT    0.202809\n",
       " 3               MRC_AMOUNT    0.175735\n",
       " 1             TOTAL_AMOUNT    0.139333\n",
       " 8               BIRTH_YEAR    0.083777\n",
       " 6     YEARS_SINCE_MRC_GIFT    0.078956\n",
       " 7     YEARS_SINCE_HPC_GIFT    0.078735\n",
       " 2        FIRST_GIFT_AMOUNT    0.072489\n",
       " 0       TOTAL_TRANSACTIONS    0.059179\n",
       " 5   YEARS_SINCE_FIRST_GIFT    0.053137\n",
       " 10        REGION_CODE_MWRO    0.010338\n",
       " 11        REGION_CODE_NERO    0.008189\n",
       " 14        REGION_CODE_PARO    0.006362\n",
       " 9         REGION_CODE_MARO    0.006017\n",
       " 16        REGION_CODE_SERO    0.004909\n",
       " 17        REGION_CODE_SWRO    0.004543\n",
       " 13        REGION_CODE_NWRO    0.004213\n",
       " 12        REGION_CODE_NRRO    0.003871\n",
       " 18        REGION_CODE_TXRO    0.003746\n",
       " 15        REGION_CODE_SCRO    0.003662,\n",
       " 'mean':                    Feature  Importance\n",
       " 4               HPC_AMOUNT    0.199074\n",
       " 3               MRC_AMOUNT    0.173849\n",
       " 1             TOTAL_AMOUNT    0.139206\n",
       " 8               BIRTH_YEAR    0.085633\n",
       " 7     YEARS_SINCE_HPC_GIFT    0.082961\n",
       " 6     YEARS_SINCE_MRC_GIFT    0.081574\n",
       " 2        FIRST_GIFT_AMOUNT    0.071399\n",
       " 0       TOTAL_TRANSACTIONS    0.058134\n",
       " 5   YEARS_SINCE_FIRST_GIFT    0.052333\n",
       " 10        REGION_CODE_MWRO    0.009966\n",
       " 11        REGION_CODE_NERO    0.007931\n",
       " 14        REGION_CODE_PARO    0.006260\n",
       " 9         REGION_CODE_MARO    0.006170\n",
       " 17        REGION_CODE_SWRO    0.005201\n",
       " 16        REGION_CODE_SERO    0.004910\n",
       " 13        REGION_CODE_NWRO    0.004196\n",
       " 12        REGION_CODE_NRRO    0.003856\n",
       " 15        REGION_CODE_SCRO    0.003822\n",
       " 18        REGION_CODE_TXRO    0.003529,\n",
       " 'mice':                    Feature  Importance\n",
       " 4               HPC_AMOUNT    0.199074\n",
       " 3               MRC_AMOUNT    0.173849\n",
       " 1             TOTAL_AMOUNT    0.139206\n",
       " 8               BIRTH_YEAR    0.085633\n",
       " 7     YEARS_SINCE_HPC_GIFT    0.082961\n",
       " 6     YEARS_SINCE_MRC_GIFT    0.081574\n",
       " 2        FIRST_GIFT_AMOUNT    0.071399\n",
       " 0       TOTAL_TRANSACTIONS    0.058134\n",
       " 5   YEARS_SINCE_FIRST_GIFT    0.052333\n",
       " 10        REGION_CODE_MWRO    0.009966\n",
       " 11        REGION_CODE_NERO    0.007931\n",
       " 14        REGION_CODE_PARO    0.006260\n",
       " 9         REGION_CODE_MARO    0.006170\n",
       " 17        REGION_CODE_SWRO    0.005201\n",
       " 16        REGION_CODE_SERO    0.004910\n",
       " 13        REGION_CODE_NWRO    0.004196\n",
       " 12        REGION_CODE_NRRO    0.003856\n",
       " 15        REGION_CODE_SCRO    0.003822\n",
       " 18        REGION_CODE_TXRO    0.003529}"
      ]
     },
     "execution_count": 62,
     "metadata": {},
     "output_type": "execute_result"
    }
   ],
   "source": [
    "feature_importances"
   ]
  },
  {
   "cell_type": "code",
   "execution_count": 64,
   "metadata": {},
   "outputs": [
    {
     "data": {
      "image/png": "[encoded data removed]",
      "text/plain": [
       "<Figure size 1500x800 with 1 Axes>"
      ]
     },
     "metadata": {},
     "output_type": "display_data"
    }
   ],
   "source": [
    "# Plot feature importances\n",
    "plt.figure(figsize=(15, 8))\n",
    "colors = {'median': 'red', 'mean': 'green', 'mice': 'blue'}\n",
    "bar_width = 0.25\n",
    "positions = np.arange(len(feature_importances['median']))\n",
    "\n",
    "for i, result in enumerate(results):\n",
    "    imputer_name = result['imputer']\n",
    "    plt.bar(positions + i * bar_width, result['feature_importance']['Importance'], bar_width,\n",
    "            alpha=0.5, label=imputer_name, color=colors[imputer_name])\n",
    "\n",
    "plt.xlabel('Feature')\n",
    "plt.ylabel('Importance')\n",
    "plt.title('Feature Importance for Different Imputation Methods')\n",
    "plt.xticks(positions + bar_width, feature_importances['median']['Feature'], rotation=90)\n",
    "plt.legend()\n",
    "plt.tight_layout()\n",
    "plt.show()\n"
   ]
  },
  {
   "cell_type": "markdown",
   "metadata": {},
   "source": [
    "## Life Expectancy Prediction"
   ]
  },
  {
   "cell_type": "code",
   "execution_count": null,
   "metadata": {},
   "outputs": [],
   "source": []
  },
  {
   "cell_type": "code",
   "execution_count": null,
   "metadata": {},
   "outputs": [],
   "source": []
  },
  {
   "cell_type": "code",
   "execution_count": null,
   "metadata": {},
   "outputs": [],
   "source": []
  },
  {
   "cell_type": "code",
   "execution_count": null,
   "metadata": {},
   "outputs": [],
   "source": []
  },
  {
   "cell_type": "code",
   "execution_count": null,
   "metadata": {},
   "outputs": [],
   "source": []
  },
  {
   "cell_type": "code",
   "execution_count": null,
   "metadata": {},
   "outputs": [],
   "source": []
  }
 ],
 "metadata": {
  "kernelspec": {
   "display_name": "deathrates",
   "language": "python",
   "name": "python3"
  },
  "language_info": {
   "codemirror_mode": {
    "name": "ipython",
    "version": 3
   },
   "file_extension": ".py",
   "mimetype": "text/x-python",
   "name": "python",
   "nbconvert_exporter": "python",
   "pygments_lexer": "ipython3",
   "version": "3.8.16"
  }
 },
 "nbformat": 4,
 "nbformat_minor": 2
}
